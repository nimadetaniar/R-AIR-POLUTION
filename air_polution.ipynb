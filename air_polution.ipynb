{
  "nbformat": 4,
  "nbformat_minor": 0,
  "metadata": {
    "colab": {
      "name": "air polution.ipynb",
      "provenance": [],
      "authorship_tag": "ABX9TyMsGfdgmPQNu6LIlK1O2rIk",
      "include_colab_link": true
    },
    "kernelspec": {
      "name": "ir",
      "display_name": "R"
    },
    "language_info": {
      "name": "R"
    }
  },
  "cells": [
    {
      "cell_type": "markdown",
      "metadata": {
        "id": "view-in-github",
        "colab_type": "text"
      },
      "source": [
        "<a href=\"https://colab.research.google.com/github/nimadetaniar/R-AIR-POLUTION/blob/main/air_polution.ipynb\" target=\"_parent\"><img src=\"https://colab.research.google.com/assets/colab-badge.svg\" alt=\"Open In Colab\"/></a>"
      ]
    },
    {
      "cell_type": "code",
      "metadata": {
        "colab": {
          "base_uri": "https://localhost:8080/"
        },
        "id": "qfwgMZydSva1",
        "outputId": "2a227560-7d56-4295-caee-62abbce47931"
      },
      "source": [
        "print(R.version.string)\n"
      ],
      "execution_count": 1,
      "outputs": [
        {
          "output_type": "stream",
          "text": [
            "[1] \"R version 4.1.1 (2021-08-10)\"\n"
          ],
          "name": "stdout"
        }
      ]
    },
    {
      "cell_type": "code",
      "metadata": {
        "id": "e1ysC_Y6VxIu"
      },
      "source": [
        "pollutantmean <- function(directory, pollutant, id = 1:332) {\n",
        "                filelist <- list.files(path=directory, pattern = \".csv\", full.names = TRUE)\n",
        "                values <- numeric()\n",
        "\n",
        "                for(i in id){\n",
        "                  data <- read.csv(filelist[i])\n",
        "                  values <- c(values, data[[pollutant]])\n",
        "                }\n",
        "                mean(values, na.rm = TRUE)\n",
        "          }"
      ],
      "execution_count": 15,
      "outputs": []
    },
    {
      "cell_type": "code",
      "metadata": {
        "colab": {
          "base_uri": "https://localhost:8080/",
          "height": 33
        },
        "id": "fGtavdR3Jd0j",
        "outputId": "16c4c6e2-e302-4895-aac1-8374529e3d9d"
      },
      "source": [
        "pollutantmean(\"specdata\",\"sulfate\",)"
      ],
      "execution_count": 21,
      "outputs": [
        {
          "output_type": "display_data",
          "data": {
            "text/plain": [
              "[1] 3.189369"
            ],
            "text/latex": "3.18936865762216",
            "text/markdown": "3.18936865762216",
            "text/html": [
              "3.18936865762216"
            ]
          },
          "metadata": {
            "tags": []
          }
        }
      ]
    },
    {
      "cell_type": "code",
      "metadata": {
        "colab": {
          "base_uri": "https://localhost:8080/",
          "height": 33
        },
        "id": "hZM4Qb7eKw2T",
        "outputId": "9bd992c2-aba9-46b1-b541-af1cdf064896"
      },
      "source": [
        "pollutantmean(\"specdata\",\"nitrate\",)"
      ],
      "execution_count": 22,
      "outputs": [
        {
          "output_type": "display_data",
          "data": {
            "text/plain": [
              "[1] 1.702932"
            ],
            "text/latex": "1.70293184286701",
            "text/markdown": "1.70293184286701",
            "text/html": [
              "1.70293184286701"
            ]
          },
          "metadata": {
            "tags": []
          }
        }
      ]
    }
  ]
}